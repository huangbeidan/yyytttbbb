{
 "cells": [
  {
   "cell_type": "code",
   "execution_count": 5,
   "metadata": {},
   "outputs": [],
   "source": [
    "import psycopg2"
   ]
  },
  {
   "cell_type": "code",
   "execution_count": 6,
   "metadata": {},
   "outputs": [],
   "source": [
    "def do_it():\n",
    "    \n",
    "  \n",
    "    conn = None\n",
    "\n",
    "    \n",
    "    try:\n",
    "        conn = psycopg2.connect(host=\"10.128.6.136\",database=\"postgres\", user=\"b5huang\", \n",
    "                        password=\"pht8mCcW\")\n",
    "        cur = conn.cursor()\n",
    "        sql = \"select text as text from twitterstatus_tsv \"\n",
    "    \n",
    "        cur.execute(sql)\n",
    "        count = 1\n",
    "        print(\"The number of parts: \", cur.rowcount)\n",
    "        row = cur.fetchone()\n",
    "        if row is not None:\n",
    "            print(row)\n",
    "        while row is not None and count <= 100:\n",
    "            count = count + 1\n",
    "            row = cur.fetchone()\n",
    "            if row is not None:\n",
    "                print(row)\n",
    "             \n",
    "        cur.close()\n",
    "        \n",
    "    except (Exception, psycopg2.DatabaseError) as error:\n",
    "        print(error)\n",
    "    finally:\n",
    "        if conn is not None:\n",
    "            conn.close()\n",
    "  "
   ]
  },
  {
   "cell_type": "code",
   "execution_count": null,
   "metadata": {},
   "outputs": [],
   "source": [
    "do_it()"
   ]
  },
  {
   "cell_type": "code",
   "execution_count": null,
   "metadata": {},
   "outputs": [],
   "source": []
  }
 ],
 "metadata": {
  "kernelspec": {
   "display_name": "Python 3",
   "language": "python",
   "name": "python3"
  },
  "language_info": {
   "codemirror_mode": {
    "name": "ipython",
    "version": 3
   },
   "file_extension": ".py",
   "mimetype": "text/x-python",
   "name": "python",
   "nbconvert_exporter": "python",
   "pygments_lexer": "ipython3",
   "version": "3.6.7"
  }
 },
 "nbformat": 4,
 "nbformat_minor": 2
}
